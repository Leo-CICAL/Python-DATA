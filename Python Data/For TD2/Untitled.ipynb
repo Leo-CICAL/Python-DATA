{
 "cells": [
  {
   "cell_type": "markdown",
   "metadata": {},
   "source": [
    "# Homework for TD 2 \n",
    "\n",
    "Dataset : Premier League's Teams's Stats from 2006-2007 to 2017-2018"
   ]
  },
  {
   "cell_type": "code",
   "execution_count": 1,
   "metadata": {},
   "outputs": [],
   "source": [
    "matplotlib inline"
   ]
  },
  {
   "cell_type": "code",
   "execution_count": 59,
   "metadata": {},
   "outputs": [],
   "source": [
    "import pandas as pd\n",
    "import numpy as np\n",
    "from pandas import Series, DataFrame\n",
    "import matplotlib.pyplot as plt"
   ]
  },
  {
   "cell_type": "code",
   "execution_count": 3,
   "metadata": {},
   "outputs": [],
   "source": [
    "dffoot = pd.read_csv(\"stats.csv\", sep=\",\")"
   ]
  },
  {
   "cell_type": "code",
   "execution_count": 4,
   "metadata": {},
   "outputs": [
    {
     "data": {
      "text/html": [
       "<div>\n",
       "<style scoped>\n",
       "    .dataframe tbody tr th:only-of-type {\n",
       "        vertical-align: middle;\n",
       "    }\n",
       "\n",
       "    .dataframe tbody tr th {\n",
       "        vertical-align: top;\n",
       "    }\n",
       "\n",
       "    .dataframe thead th {\n",
       "        text-align: right;\n",
       "    }\n",
       "</style>\n",
       "<table border=\"1\" class=\"dataframe\">\n",
       "  <thead>\n",
       "    <tr style=\"text-align: right;\">\n",
       "      <th></th>\n",
       "      <th>team</th>\n",
       "      <th>wins</th>\n",
       "      <th>losses</th>\n",
       "      <th>goals</th>\n",
       "      <th>total_yel_card</th>\n",
       "      <th>total_red_card</th>\n",
       "      <th>total_scoring_att</th>\n",
       "      <th>ontarget_scoring_att</th>\n",
       "      <th>hit_woodwork</th>\n",
       "      <th>att_hd_goal</th>\n",
       "      <th>...</th>\n",
       "      <th>total_cross</th>\n",
       "      <th>corner_taken</th>\n",
       "      <th>touches</th>\n",
       "      <th>big_chance_missed</th>\n",
       "      <th>clearance_off_line</th>\n",
       "      <th>dispossessed</th>\n",
       "      <th>penalty_save</th>\n",
       "      <th>total_high_claim</th>\n",
       "      <th>punches</th>\n",
       "      <th>season</th>\n",
       "    </tr>\n",
       "  </thead>\n",
       "  <tbody>\n",
       "    <tr>\n",
       "      <th>0</th>\n",
       "      <td>Manchester United</td>\n",
       "      <td>28.0</td>\n",
       "      <td>5.0</td>\n",
       "      <td>83.0</td>\n",
       "      <td>60.0</td>\n",
       "      <td>1.0</td>\n",
       "      <td>698.0</td>\n",
       "      <td>256.0</td>\n",
       "      <td>21.0</td>\n",
       "      <td>12.0</td>\n",
       "      <td>...</td>\n",
       "      <td>918.0</td>\n",
       "      <td>258.0</td>\n",
       "      <td>25686.0</td>\n",
       "      <td>NaN</td>\n",
       "      <td>1.0</td>\n",
       "      <td>NaN</td>\n",
       "      <td>2.0</td>\n",
       "      <td>37.0</td>\n",
       "      <td>25.0</td>\n",
       "      <td>2006-2007</td>\n",
       "    </tr>\n",
       "    <tr>\n",
       "      <th>1</th>\n",
       "      <td>Chelsea</td>\n",
       "      <td>24.0</td>\n",
       "      <td>3.0</td>\n",
       "      <td>64.0</td>\n",
       "      <td>62.0</td>\n",
       "      <td>4.0</td>\n",
       "      <td>636.0</td>\n",
       "      <td>216.0</td>\n",
       "      <td>14.0</td>\n",
       "      <td>16.0</td>\n",
       "      <td>...</td>\n",
       "      <td>897.0</td>\n",
       "      <td>231.0</td>\n",
       "      <td>24010.0</td>\n",
       "      <td>NaN</td>\n",
       "      <td>2.0</td>\n",
       "      <td>NaN</td>\n",
       "      <td>1.0</td>\n",
       "      <td>74.0</td>\n",
       "      <td>22.0</td>\n",
       "      <td>2006-2007</td>\n",
       "    </tr>\n",
       "    <tr>\n",
       "      <th>2</th>\n",
       "      <td>Liverpool</td>\n",
       "      <td>20.0</td>\n",
       "      <td>10.0</td>\n",
       "      <td>57.0</td>\n",
       "      <td>44.0</td>\n",
       "      <td>0.0</td>\n",
       "      <td>668.0</td>\n",
       "      <td>214.0</td>\n",
       "      <td>15.0</td>\n",
       "      <td>8.0</td>\n",
       "      <td>...</td>\n",
       "      <td>1107.0</td>\n",
       "      <td>282.0</td>\n",
       "      <td>24150.0</td>\n",
       "      <td>NaN</td>\n",
       "      <td>1.0</td>\n",
       "      <td>NaN</td>\n",
       "      <td>0.0</td>\n",
       "      <td>51.0</td>\n",
       "      <td>27.0</td>\n",
       "      <td>2006-2007</td>\n",
       "    </tr>\n",
       "    <tr>\n",
       "      <th>3</th>\n",
       "      <td>Arsenal</td>\n",
       "      <td>19.0</td>\n",
       "      <td>8.0</td>\n",
       "      <td>63.0</td>\n",
       "      <td>59.0</td>\n",
       "      <td>3.0</td>\n",
       "      <td>638.0</td>\n",
       "      <td>226.0</td>\n",
       "      <td>19.0</td>\n",
       "      <td>10.0</td>\n",
       "      <td>...</td>\n",
       "      <td>873.0</td>\n",
       "      <td>278.0</td>\n",
       "      <td>25592.0</td>\n",
       "      <td>NaN</td>\n",
       "      <td>1.0</td>\n",
       "      <td>NaN</td>\n",
       "      <td>0.0</td>\n",
       "      <td>88.0</td>\n",
       "      <td>27.0</td>\n",
       "      <td>2006-2007</td>\n",
       "    </tr>\n",
       "    <tr>\n",
       "      <th>4</th>\n",
       "      <td>Tottenham Hotspur</td>\n",
       "      <td>17.0</td>\n",
       "      <td>12.0</td>\n",
       "      <td>57.0</td>\n",
       "      <td>48.0</td>\n",
       "      <td>3.0</td>\n",
       "      <td>520.0</td>\n",
       "      <td>184.0</td>\n",
       "      <td>6.0</td>\n",
       "      <td>5.0</td>\n",
       "      <td>...</td>\n",
       "      <td>796.0</td>\n",
       "      <td>181.0</td>\n",
       "      <td>22200.0</td>\n",
       "      <td>NaN</td>\n",
       "      <td>2.0</td>\n",
       "      <td>NaN</td>\n",
       "      <td>0.0</td>\n",
       "      <td>51.0</td>\n",
       "      <td>24.0</td>\n",
       "      <td>2006-2007</td>\n",
       "    </tr>\n",
       "    <tr>\n",
       "      <th>...</th>\n",
       "      <td>...</td>\n",
       "      <td>...</td>\n",
       "      <td>...</td>\n",
       "      <td>...</td>\n",
       "      <td>...</td>\n",
       "      <td>...</td>\n",
       "      <td>...</td>\n",
       "      <td>...</td>\n",
       "      <td>...</td>\n",
       "      <td>...</td>\n",
       "      <td>...</td>\n",
       "      <td>...</td>\n",
       "      <td>...</td>\n",
       "      <td>...</td>\n",
       "      <td>...</td>\n",
       "      <td>...</td>\n",
       "      <td>...</td>\n",
       "      <td>...</td>\n",
       "      <td>...</td>\n",
       "      <td>...</td>\n",
       "      <td>...</td>\n",
       "    </tr>\n",
       "    <tr>\n",
       "      <th>235</th>\n",
       "      <td>Huddersfield Town</td>\n",
       "      <td>9.0</td>\n",
       "      <td>19.0</td>\n",
       "      <td>28.0</td>\n",
       "      <td>62.0</td>\n",
       "      <td>3.0</td>\n",
       "      <td>362.0</td>\n",
       "      <td>109.0</td>\n",
       "      <td>8.0</td>\n",
       "      <td>5.0</td>\n",
       "      <td>...</td>\n",
       "      <td>765.0</td>\n",
       "      <td>165.0</td>\n",
       "      <td>22619.0</td>\n",
       "      <td>21.0</td>\n",
       "      <td>6.0</td>\n",
       "      <td>416.0</td>\n",
       "      <td>2.0</td>\n",
       "      <td>31.0</td>\n",
       "      <td>24.0</td>\n",
       "      <td>2017-2018</td>\n",
       "    </tr>\n",
       "    <tr>\n",
       "      <th>236</th>\n",
       "      <td>Swansea City</td>\n",
       "      <td>8.0</td>\n",
       "      <td>21.0</td>\n",
       "      <td>28.0</td>\n",
       "      <td>51.0</td>\n",
       "      <td>1.0</td>\n",
       "      <td>338.0</td>\n",
       "      <td>103.0</td>\n",
       "      <td>8.0</td>\n",
       "      <td>3.0</td>\n",
       "      <td>...</td>\n",
       "      <td>694.0</td>\n",
       "      <td>150.0</td>\n",
       "      <td>22775.0</td>\n",
       "      <td>26.0</td>\n",
       "      <td>1.0</td>\n",
       "      <td>439.0</td>\n",
       "      <td>3.0</td>\n",
       "      <td>44.0</td>\n",
       "      <td>15.0</td>\n",
       "      <td>2017-2018</td>\n",
       "    </tr>\n",
       "    <tr>\n",
       "      <th>237</th>\n",
       "      <td>Southampton</td>\n",
       "      <td>7.0</td>\n",
       "      <td>16.0</td>\n",
       "      <td>37.0</td>\n",
       "      <td>63.0</td>\n",
       "      <td>2.0</td>\n",
       "      <td>450.0</td>\n",
       "      <td>145.0</td>\n",
       "      <td>15.0</td>\n",
       "      <td>7.0</td>\n",
       "      <td>...</td>\n",
       "      <td>800.0</td>\n",
       "      <td>227.0</td>\n",
       "      <td>24639.0</td>\n",
       "      <td>37.0</td>\n",
       "      <td>4.0</td>\n",
       "      <td>379.0</td>\n",
       "      <td>1.0</td>\n",
       "      <td>29.0</td>\n",
       "      <td>13.0</td>\n",
       "      <td>2017-2018</td>\n",
       "    </tr>\n",
       "    <tr>\n",
       "      <th>238</th>\n",
       "      <td>Stoke City</td>\n",
       "      <td>7.0</td>\n",
       "      <td>19.0</td>\n",
       "      <td>35.0</td>\n",
       "      <td>62.0</td>\n",
       "      <td>1.0</td>\n",
       "      <td>384.0</td>\n",
       "      <td>132.0</td>\n",
       "      <td>8.0</td>\n",
       "      <td>8.0</td>\n",
       "      <td>...</td>\n",
       "      <td>598.0</td>\n",
       "      <td>136.0</td>\n",
       "      <td>20368.0</td>\n",
       "      <td>33.0</td>\n",
       "      <td>3.0</td>\n",
       "      <td>402.0</td>\n",
       "      <td>0.0</td>\n",
       "      <td>27.0</td>\n",
       "      <td>14.0</td>\n",
       "      <td>2017-2018</td>\n",
       "    </tr>\n",
       "    <tr>\n",
       "      <th>239</th>\n",
       "      <td>West Bromwich Albion</td>\n",
       "      <td>6.0</td>\n",
       "      <td>19.0</td>\n",
       "      <td>31.0</td>\n",
       "      <td>73.0</td>\n",
       "      <td>1.0</td>\n",
       "      <td>378.0</td>\n",
       "      <td>114.0</td>\n",
       "      <td>7.0</td>\n",
       "      <td>10.0</td>\n",
       "      <td>...</td>\n",
       "      <td>784.0</td>\n",
       "      <td>176.0</td>\n",
       "      <td>20552.0</td>\n",
       "      <td>28.0</td>\n",
       "      <td>3.0</td>\n",
       "      <td>446.0</td>\n",
       "      <td>0.0</td>\n",
       "      <td>40.0</td>\n",
       "      <td>5.0</td>\n",
       "      <td>2017-2018</td>\n",
       "    </tr>\n",
       "  </tbody>\n",
       "</table>\n",
       "<p>240 rows × 42 columns</p>\n",
       "</div>"
      ],
      "text/plain": [
       "                     team  wins  losses  goals  total_yel_card  \\\n",
       "0       Manchester United  28.0     5.0   83.0            60.0   \n",
       "1                 Chelsea  24.0     3.0   64.0            62.0   \n",
       "2               Liverpool  20.0    10.0   57.0            44.0   \n",
       "3                 Arsenal  19.0     8.0   63.0            59.0   \n",
       "4       Tottenham Hotspur  17.0    12.0   57.0            48.0   \n",
       "..                    ...   ...     ...    ...             ...   \n",
       "235     Huddersfield Town   9.0    19.0   28.0            62.0   \n",
       "236          Swansea City   8.0    21.0   28.0            51.0   \n",
       "237           Southampton   7.0    16.0   37.0            63.0   \n",
       "238            Stoke City   7.0    19.0   35.0            62.0   \n",
       "239  West Bromwich Albion   6.0    19.0   31.0            73.0   \n",
       "\n",
       "     total_red_card  total_scoring_att  ontarget_scoring_att  hit_woodwork  \\\n",
       "0               1.0              698.0                 256.0          21.0   \n",
       "1               4.0              636.0                 216.0          14.0   \n",
       "2               0.0              668.0                 214.0          15.0   \n",
       "3               3.0              638.0                 226.0          19.0   \n",
       "4               3.0              520.0                 184.0           6.0   \n",
       "..              ...                ...                   ...           ...   \n",
       "235             3.0              362.0                 109.0           8.0   \n",
       "236             1.0              338.0                 103.0           8.0   \n",
       "237             2.0              450.0                 145.0          15.0   \n",
       "238             1.0              384.0                 132.0           8.0   \n",
       "239             1.0              378.0                 114.0           7.0   \n",
       "\n",
       "     att_hd_goal  ...  total_cross  corner_taken  touches  big_chance_missed  \\\n",
       "0           12.0  ...        918.0         258.0  25686.0                NaN   \n",
       "1           16.0  ...        897.0         231.0  24010.0                NaN   \n",
       "2            8.0  ...       1107.0         282.0  24150.0                NaN   \n",
       "3           10.0  ...        873.0         278.0  25592.0                NaN   \n",
       "4            5.0  ...        796.0         181.0  22200.0                NaN   \n",
       "..           ...  ...          ...           ...      ...                ...   \n",
       "235          5.0  ...        765.0         165.0  22619.0               21.0   \n",
       "236          3.0  ...        694.0         150.0  22775.0               26.0   \n",
       "237          7.0  ...        800.0         227.0  24639.0               37.0   \n",
       "238          8.0  ...        598.0         136.0  20368.0               33.0   \n",
       "239         10.0  ...        784.0         176.0  20552.0               28.0   \n",
       "\n",
       "     clearance_off_line  dispossessed  penalty_save  total_high_claim  \\\n",
       "0                   1.0           NaN           2.0              37.0   \n",
       "1                   2.0           NaN           1.0              74.0   \n",
       "2                   1.0           NaN           0.0              51.0   \n",
       "3                   1.0           NaN           0.0              88.0   \n",
       "4                   2.0           NaN           0.0              51.0   \n",
       "..                  ...           ...           ...               ...   \n",
       "235                 6.0         416.0           2.0              31.0   \n",
       "236                 1.0         439.0           3.0              44.0   \n",
       "237                 4.0         379.0           1.0              29.0   \n",
       "238                 3.0         402.0           0.0              27.0   \n",
       "239                 3.0         446.0           0.0              40.0   \n",
       "\n",
       "     punches     season  \n",
       "0       25.0  2006-2007  \n",
       "1       22.0  2006-2007  \n",
       "2       27.0  2006-2007  \n",
       "3       27.0  2006-2007  \n",
       "4       24.0  2006-2007  \n",
       "..       ...        ...  \n",
       "235     24.0  2017-2018  \n",
       "236     15.0  2017-2018  \n",
       "237     13.0  2017-2018  \n",
       "238     14.0  2017-2018  \n",
       "239      5.0  2017-2018  \n",
       "\n",
       "[240 rows x 42 columns]"
      ]
     },
     "execution_count": 4,
     "metadata": {},
     "output_type": "execute_result"
    }
   ],
   "source": [
    "dffoot"
   ]
  },
  {
   "cell_type": "code",
   "execution_count": 5,
   "metadata": {},
   "outputs": [
    {
     "name": "stdout",
     "output_type": "stream",
     "text": [
      "Nb lignes : 240\n",
      "Nb colonnes : 42\n"
     ]
    }
   ],
   "source": [
    "#dffoot.info()\n",
    "#dffoot.columns\n",
    "\n",
    "#dffoot.isnull()\n",
    "\n",
    "nb_lignes, nb_colonnes = dffoot.shape\n",
    "print('Nb lignes :', nb_lignes)\n",
    "print('Nb colonnes :', nb_colonnes)"
   ]
  },
  {
   "cell_type": "code",
   "execution_count": 18,
   "metadata": {},
   "outputs": [
    {
     "data": {
      "text/plain": [
       "Index(['team', 'wins', 'losses', 'goals', 'total_yel_card', 'total_red_card',\n",
       "       'total_scoring_att', 'ontarget_scoring_att', 'hit_woodwork',\n",
       "       'att_hd_goal', 'att_pen_goal', 'att_freekick_goal', 'att_ibox_goal',\n",
       "       'att_obox_goal', 'goal_fastbreak', 'total_offside', 'clean_sheet',\n",
       "       'goals_conceded', 'saves', 'outfielder_block', 'interception',\n",
       "       'total_tackle', 'last_man_tackle', 'total_clearance', 'head_clearance',\n",
       "       'own_goals', 'penalty_conceded', 'pen_goals_conceded', 'total_pass',\n",
       "       'total_through_ball', 'total_long_balls', 'backward_pass',\n",
       "       'total_cross', 'corner_taken', 'touches', 'big_chance_missed',\n",
       "       'clearance_off_line', 'dispossessed', 'penalty_save',\n",
       "       'total_high_claim', 'punches', 'season'],\n",
       "      dtype='object')"
      ]
     },
     "execution_count": 18,
     "metadata": {},
     "output_type": "execute_result"
    }
   ],
   "source": [
    "#dffoot.describe()\n",
    "dffoot.columns"
   ]
  },
  {
   "cell_type": "code",
   "execution_count": 7,
   "metadata": {},
   "outputs": [
    {
     "data": {
      "text/plain": [
       "0         Manchester United\n",
       "1                   Chelsea\n",
       "2                 Liverpool\n",
       "3                   Arsenal\n",
       "4         Tottenham Hotspur\n",
       "               ...         \n",
       "235       Huddersfield Town\n",
       "236            Swansea City\n",
       "237             Southampton\n",
       "238              Stoke City\n",
       "239    West Bromwich Albion\n",
       "Name: team, Length: 240, dtype: object"
      ]
     },
     "execution_count": 7,
     "metadata": {},
     "output_type": "execute_result"
    }
   ],
   "source": [
    "dffoot['team']"
   ]
  },
  {
   "cell_type": "code",
   "execution_count": 57,
   "metadata": {},
   "outputs": [
    {
     "data": {
      "text/plain": [
       "team\n",
       "Crystal Palace           60.0\n",
       "Bolton Wanderers         68.0\n",
       "Wigan Athletic           70.0\n",
       "Blackburn Rovers         72.0\n",
       "Southampton              79.0\n",
       "Swansea City             82.0\n",
       "Fulham                   87.0\n",
       "West Bromwich Albion     93.0\n",
       "Sunderland               95.0\n",
       "Aston Villa             113.0\n",
       "Stoke City              116.0\n",
       "Newcastle United        116.0\n",
       "West Ham United         127.0\n",
       "Everton                 185.0\n",
       "Tottenham Hotspur       228.0\n",
       "Liverpool               234.0\n",
       "Arsenal                 255.0\n",
       "Manchester City         256.0\n",
       "Chelsea                 276.0\n",
       "Manchester United       290.0\n",
       "Name: wins, dtype: float64"
      ]
     },
     "execution_count": 57,
     "metadata": {},
     "output_type": "execute_result"
    }
   ],
   "source": [
    "dffoot.groupby('team').wins.sum().sort_values()[-20:]"
   ]
  },
  {
   "cell_type": "code",
   "execution_count": 58,
   "metadata": {},
   "outputs": [
    {
     "data": {
      "text/plain": [
       "<matplotlib.legend.Legend at 0x1c8a09a0848>"
      ]
     },
     "execution_count": 58,
     "metadata": {},
     "output_type": "execute_result"
    },
    {
     "data": {
      "image/png": "[encoded data removed]",
      "text/plain": [
       "<Figure size 1440x576 with 1 Axes>"
      ]
     },
     "metadata": {
      "needs_background": "light"
     },
     "output_type": "display_data"
    }
   ],
   "source": [
    "wins = dffoot.pivot_table('wins',index='season',columns='team',aggfunc=sum)\n",
    "plt.figure(figsize=(20,8))\n",
    "plt.grid()\n",
    "g1 = plt.plot(wins[\"Arsenal\"],label='Arsenal')\n",
    "g2 = plt.plot(wins[\"Chelsea\"],label='Chelsea')\n",
    "plt.title('Wins of Chelsea and of Arsenal')\n",
    "plt.legend()"
   ]
  },
  {
   "cell_type": "code",
   "execution_count": 115,
   "metadata": {},
   "outputs": [
    {
     "data": {
      "text/plain": [
       "Text(0.5, 1.0, \"Number of Arsenal's Goals\")"
      ]
     },
     "execution_count": 115,
     "metadata": {},
     "output_type": "execute_result"
    },
    {
     "data": {
      "image/png": "[encoded data removed]",
      "text/plain": [
       "<Figure size 1440x360 with 1 Axes>"
      ]
     },
     "metadata": {
      "needs_background": "light"
     },
     "output_type": "display_data"
    }
   ],
   "source": [
    "goal = dffoot[(dffoot.team == 'Arsenal')].groupby('season').goals.sum()\n",
    "plt.figure(figsize=(20,5))\n",
    "plt.grid()\n",
    "plt.bar(dffoot['season'].unique(),goal)\n",
    "plt.title('Number of Arsenal\\'s Goals')\n",
    "\n"
   ]
  },
  {
   "cell_type": "code",
   "execution_count": 128,
   "metadata": {},
   "outputs": [
    {
     "data": {
      "text/plain": [
       "<AxesSubplot:title={'center':'Teams who receveid the most red cards'}, xlabel='team'>"
      ]
     },
     "execution_count": 128,
     "metadata": {},
     "output_type": "execute_result"
    },
    {
     "data": {
      "image/png": "[encoded data removed]",
      "text/plain": [
       "<Figure size 1440x360 with 1 Axes>"
      ]
     },
     "metadata": {
      "needs_background": "light"
     },
     "output_type": "display_data"
    }
   ],
   "source": [
    "plt.figure(figsize=(20,5))\n",
    "plt.title(\"Teams who receveid the most red cards\")\n",
    "dffoot.groupby('team').total_red_card.sum().sort_values()[-5:].plot()\n"
   ]
  },
  {
   "cell_type": "markdown",
   "metadata": {},
   "source": [
    "Questions that we can ask :\n",
    "\n",
    "- The 10 teams who are the most fair-play (less yellow and red cards) with a red card = 2 yellow card\n",
    "- The 10 teams who shooted the most (goal + att missed)\n",
    "- Arsenal's number of each Kick Off"
   ]
  },
  {
   "cell_type": "code",
   "execution_count": 16,
   "metadata": {},
   "outputs": [
    {
     "data": {
      "text/plain": [
       "team\n",
       "Newcastle United     707.0\n",
       "Everton              735.0\n",
       "Stoke City           741.0\n",
       "Tottenham Hotspur    743.0\n",
       "Arsenal              765.0\n",
       "Sunderland           777.0\n",
       "Manchester United    780.0\n",
       "Chelsea              797.0\n",
       "Manchester City      803.0\n",
       "West Ham United      806.0\n",
       "dtype: float64"
      ]
     },
     "execution_count": 16,
     "metadata": {},
     "output_type": "execute_result"
    }
   ],
   "source": [
    "#The 10 teams who are the most fair-play (less yellow and red cards) with a red card = 2 yellow card\n",
    "\n",
    "(dffoot.groupby(\"team\").total_yel_card.sum() + dffoot.groupby(\"team\").total_red_card.sum()*2).sort_values()[-10:]"
   ]
  },
  {
   "cell_type": "code",
   "execution_count": 20,
   "metadata": {},
   "outputs": [
    {
     "data": {
      "text/plain": [
       "team\n",
       "Aston Villa           6028.0\n",
       "Newcastle United      6342.0\n",
       "West Ham United       7136.0\n",
       "Everton               8239.0\n",
       "Manchester City       9677.0\n",
       "Manchester United     9730.0\n",
       "Tottenham Hotspur     9937.0\n",
       "Arsenal               9991.0\n",
       "Liverpool            10474.0\n",
       "Chelsea              10549.0\n",
       "dtype: float64"
      ]
     },
     "execution_count": 20,
     "metadata": {},
     "output_type": "execute_result"
    }
   ],
   "source": [
    "#The 10 teams who shooted the most (goal + att missed)\n",
    "\n",
    "(dffoot.groupby(\"team\").total_scoring_att.sum() + dffoot.groupby(\"team\").ontarget_scoring_att.sum()).sort_values()[-10:]"
   ]
  },
  {
   "cell_type": "code",
   "execution_count": 26,
   "metadata": {},
   "outputs": [
    {
     "data": {
      "text/plain": [
       "team\n",
       "Arsenal    350057.0\n",
       "dtype: float64"
      ]
     },
     "execution_count": 26,
     "metadata": {},
     "output_type": "execute_result"
    }
   ],
   "source": [
    "#Arsenal's number of each Kick Off\n",
    "\n",
    "dffoot[dffoot.team == \"Arsenal\"].groupby(\"team\").corner_taken.sum() + dffoot[dffoot.team == \"Arsenal\"].groupby(\"team\").touches.sum() + dffoot[dffoot.team == \"Arsenal\"].groupby(\"team\").att_pen_goal.sum() + dffoot[dffoot.team == \"Arsenal\"].groupby(\"team\").att_freekick_goal.sum()"
   ]
  }
 ],
 "metadata": {
  "kernelspec": {
   "display_name": "Python 3",
   "language": "python",
   "name": "python3"
  },
  "language_info": {
   "codemirror_mode": {
    "name": "ipython",
    "version": 3
   },
   "file_extension": ".py",
   "mimetype": "text/x-python",
   "name": "python",
   "nbconvert_exporter": "python",
   "pygments_lexer": "ipython3",
   "version": "3.7.6"
  }
 },
 "nbformat": 4,
 "nbformat_minor": 4
}
